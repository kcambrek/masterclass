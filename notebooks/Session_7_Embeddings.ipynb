{
  "cells": [
    {
      "cell_type": "markdown",
      "metadata": {
        "id": "2egVITlM-Kbs"
      },
      "source": [
        "# Hands on session: embeddings\n",
        "\n",
        "In this session, we’ll dive right into some hands-on data work. We’ve prepared a (messy) dataset for you, consisting of a transcription from a yet-to-be-revealed Tweede Kamer debat. The transcription was generated using Azure's AI Speech-to-Text service, which is highly accurate and capable of distinguishing between different speakers, but still makes mistakes.\n",
        "\n",
        "The goal of this session is to gain practical experience with text embeddings, dimensionality reduction, and clustering, while exploring how to combine different techniques. By applying these methods to our dataset, we’ll aim to uncover the main topics discussed in the debate.\n",
        "\n"
      ]
    },
    {
      "cell_type": "code",
      "execution_count": null,
      "metadata": {
        "id": "KIw9O94Z-3xg"
      },
      "outputs": [],
      "source": [
        "!pip install -r https://raw.githubusercontent.com/kcambrek/masterclass/refs/heads/main/data/requirements.txt"
      ]
    },
    {
      "cell_type": "code",
      "execution_count": null,
      "metadata": {
        "id": "Ay5G0GlJ-Kbu"
      },
      "outputs": [],
      "source": [
        "import pandas as pd\n",
        "from sentence_transformers import SentenceTransformer\n",
        "from sklearn.manifold import TSNE\n",
        "import plotly.express as px\n",
        "import numpy as np\n",
        "from typing import Optional, Callable\n"
      ]
    },
    {
      "cell_type": "markdown",
      "metadata": {
        "id": "fpqYqdaS-Kbu"
      },
      "source": [
        "## Load data"
      ]
    },
    {
      "cell_type": "code",
      "execution_count": 4,
      "metadata": {
        "colab": {
          "base_uri": "https://localhost:8080/",
          "height": 206
        },
        "id": "JWxAuoZH-Kbv",
        "outputId": "f52fc839-726a-488b-ab4f-8f36f6f36d0a"
      },
      "outputs": [
        {
          "data": {
            "application/vnd.google.colaboratory.intrinsic+json": {
              "summary": "{\n  \"name\": \"df\",\n  \"rows\": 295,\n  \"fields\": [\n    {\n      \"column\": \"speaker\",\n      \"properties\": {\n        \"dtype\": \"category\",\n        \"num_unique_values\": 17,\n        \"samples\": [\n          \"Guest-1\",\n          \"Guest-2\",\n          \"Guest-6\"\n        ],\n        \"semantic_type\": \"\",\n        \"description\": \"\"\n      }\n    },\n    {\n      \"column\": \"text\",\n      \"properties\": {\n        \"dtype\": \"string\",\n        \"num_unique_values\": 271,\n        \"samples\": [\n          \"Ja, Hij is bijna 11.\",\n          \"Tijd heen, Ik ben benieuwd naar een reactie van de minister.\",\n          \"En dan kunnen we gezamenlijk hier een goede besluitvorming in nemen.\"\n        ],\n        \"semantic_type\": \"\",\n        \"description\": \"\"\n      }\n    }\n  ]\n}",
              "type": "dataframe",
              "variable_name": "df"
            },
            "text/html": [
              "\n",
              "  <div id=\"df-7bf231c8-998c-426b-9948-3d19e73b3702\" class=\"colab-df-container\">\n",
              "    <div>\n",
              "<style scoped>\n",
              "    .dataframe tbody tr th:only-of-type {\n",
              "        vertical-align: middle;\n",
              "    }\n",
              "\n",
              "    .dataframe tbody tr th {\n",
              "        vertical-align: top;\n",
              "    }\n",
              "\n",
              "    .dataframe thead th {\n",
              "        text-align: right;\n",
              "    }\n",
              "</style>\n",
              "<table border=\"1\" class=\"dataframe\">\n",
              "  <thead>\n",
              "    <tr style=\"text-align: right;\">\n",
              "      <th></th>\n",
              "      <th>speaker</th>\n",
              "      <th>text</th>\n",
              "    </tr>\n",
              "  </thead>\n",
              "  <tbody>\n",
              "    <tr>\n",
              "      <th>0</th>\n",
              "      <td>Guest-1</td>\n",
              "      <td>Als eerste het woord aan de heer Krul.</td>\n",
              "    </tr>\n",
              "    <tr>\n",
              "      <th>1</th>\n",
              "      <td>Guest-1</td>\n",
              "      <td>Van de Fractie van het CDA die een klemmende v...</td>\n",
              "    </tr>\n",
              "    <tr>\n",
              "      <th>2</th>\n",
              "      <td>Guest-1</td>\n",
              "      <td>Aan minister Madlener.</td>\n",
              "    </tr>\n",
              "    <tr>\n",
              "      <th>3</th>\n",
              "      <td>Guest-2</td>\n",
              "      <td>Die heeft nog eens maken het vragenuurtje in d...</td>\n",
              "    </tr>\n",
              "    <tr>\n",
              "      <th>4</th>\n",
              "      <td>Guest-1</td>\n",
              "      <td>Te mogen open.</td>\n",
              "    </tr>\n",
              "  </tbody>\n",
              "</table>\n",
              "</div>\n",
              "    <div class=\"colab-df-buttons\">\n",
              "\n",
              "  <div class=\"colab-df-container\">\n",
              "    <button class=\"colab-df-convert\" onclick=\"convertToInteractive('df-7bf231c8-998c-426b-9948-3d19e73b3702')\"\n",
              "            title=\"Convert this dataframe to an interactive table.\"\n",
              "            style=\"display:none;\">\n",
              "\n",
              "  <svg xmlns=\"http://www.w3.org/2000/svg\" height=\"24px\" viewBox=\"0 -960 960 960\">\n",
              "    <path d=\"M120-120v-720h720v720H120Zm60-500h600v-160H180v160Zm220 220h160v-160H400v160Zm0 220h160v-160H400v160ZM180-400h160v-160H180v160Zm440 0h160v-160H620v160ZM180-180h160v-160H180v160Zm440 0h160v-160H620v160Z\"/>\n",
              "  </svg>\n",
              "    </button>\n",
              "\n",
              "  <style>\n",
              "    .colab-df-container {\n",
              "      display:flex;\n",
              "      gap: 12px;\n",
              "    }\n",
              "\n",
              "    .colab-df-convert {\n",
              "      background-color: #E8F0FE;\n",
              "      border: none;\n",
              "      border-radius: 50%;\n",
              "      cursor: pointer;\n",
              "      display: none;\n",
              "      fill: #1967D2;\n",
              "      height: 32px;\n",
              "      padding: 0 0 0 0;\n",
              "      width: 32px;\n",
              "    }\n",
              "\n",
              "    .colab-df-convert:hover {\n",
              "      background-color: #E2EBFA;\n",
              "      box-shadow: 0px 1px 2px rgba(60, 64, 67, 0.3), 0px 1px 3px 1px rgba(60, 64, 67, 0.15);\n",
              "      fill: #174EA6;\n",
              "    }\n",
              "\n",
              "    .colab-df-buttons div {\n",
              "      margin-bottom: 4px;\n",
              "    }\n",
              "\n",
              "    [theme=dark] .colab-df-convert {\n",
              "      background-color: #3B4455;\n",
              "      fill: #D2E3FC;\n",
              "    }\n",
              "\n",
              "    [theme=dark] .colab-df-convert:hover {\n",
              "      background-color: #434B5C;\n",
              "      box-shadow: 0px 1px 3px 1px rgba(0, 0, 0, 0.15);\n",
              "      filter: drop-shadow(0px 1px 2px rgba(0, 0, 0, 0.3));\n",
              "      fill: #FFFFFF;\n",
              "    }\n",
              "  </style>\n",
              "\n",
              "    <script>\n",
              "      const buttonEl =\n",
              "        document.querySelector('#df-7bf231c8-998c-426b-9948-3d19e73b3702 button.colab-df-convert');\n",
              "      buttonEl.style.display =\n",
              "        google.colab.kernel.accessAllowed ? 'block' : 'none';\n",
              "\n",
              "      async function convertToInteractive(key) {\n",
              "        const element = document.querySelector('#df-7bf231c8-998c-426b-9948-3d19e73b3702');\n",
              "        const dataTable =\n",
              "          await google.colab.kernel.invokeFunction('convertToInteractive',\n",
              "                                                    [key], {});\n",
              "        if (!dataTable) return;\n",
              "\n",
              "        const docLinkHtml = 'Like what you see? Visit the ' +\n",
              "          '<a target=\"_blank\" href=https://colab.research.google.com/notebooks/data_table.ipynb>data table notebook</a>'\n",
              "          + ' to learn more about interactive tables.';\n",
              "        element.innerHTML = '';\n",
              "        dataTable['output_type'] = 'display_data';\n",
              "        await google.colab.output.renderOutput(dataTable, element);\n",
              "        const docLink = document.createElement('div');\n",
              "        docLink.innerHTML = docLinkHtml;\n",
              "        element.appendChild(docLink);\n",
              "      }\n",
              "    </script>\n",
              "  </div>\n",
              "\n",
              "\n",
              "<div id=\"df-e5a48d32-7131-444e-8372-5bedfda55f04\">\n",
              "  <button class=\"colab-df-quickchart\" onclick=\"quickchart('df-e5a48d32-7131-444e-8372-5bedfda55f04')\"\n",
              "            title=\"Suggest charts\"\n",
              "            style=\"display:none;\">\n",
              "\n",
              "<svg xmlns=\"http://www.w3.org/2000/svg\" height=\"24px\"viewBox=\"0 0 24 24\"\n",
              "     width=\"24px\">\n",
              "    <g>\n",
              "        <path d=\"M19 3H5c-1.1 0-2 .9-2 2v14c0 1.1.9 2 2 2h14c1.1 0 2-.9 2-2V5c0-1.1-.9-2-2-2zM9 17H7v-7h2v7zm4 0h-2V7h2v10zm4 0h-2v-4h2v4z\"/>\n",
              "    </g>\n",
              "</svg>\n",
              "  </button>\n",
              "\n",
              "<style>\n",
              "  .colab-df-quickchart {\n",
              "      --bg-color: #E8F0FE;\n",
              "      --fill-color: #1967D2;\n",
              "      --hover-bg-color: #E2EBFA;\n",
              "      --hover-fill-color: #174EA6;\n",
              "      --disabled-fill-color: #AAA;\n",
              "      --disabled-bg-color: #DDD;\n",
              "  }\n",
              "\n",
              "  [theme=dark] .colab-df-quickchart {\n",
              "      --bg-color: #3B4455;\n",
              "      --fill-color: #D2E3FC;\n",
              "      --hover-bg-color: #434B5C;\n",
              "      --hover-fill-color: #FFFFFF;\n",
              "      --disabled-bg-color: #3B4455;\n",
              "      --disabled-fill-color: #666;\n",
              "  }\n",
              "\n",
              "  .colab-df-quickchart {\n",
              "    background-color: var(--bg-color);\n",
              "    border: none;\n",
              "    border-radius: 50%;\n",
              "    cursor: pointer;\n",
              "    display: none;\n",
              "    fill: var(--fill-color);\n",
              "    height: 32px;\n",
              "    padding: 0;\n",
              "    width: 32px;\n",
              "  }\n",
              "\n",
              "  .colab-df-quickchart:hover {\n",
              "    background-color: var(--hover-bg-color);\n",
              "    box-shadow: 0 1px 2px rgba(60, 64, 67, 0.3), 0 1px 3px 1px rgba(60, 64, 67, 0.15);\n",
              "    fill: var(--button-hover-fill-color);\n",
              "  }\n",
              "\n",
              "  .colab-df-quickchart-complete:disabled,\n",
              "  .colab-df-quickchart-complete:disabled:hover {\n",
              "    background-color: var(--disabled-bg-color);\n",
              "    fill: var(--disabled-fill-color);\n",
              "    box-shadow: none;\n",
              "  }\n",
              "\n",
              "  .colab-df-spinner {\n",
              "    border: 2px solid var(--fill-color);\n",
              "    border-color: transparent;\n",
              "    border-bottom-color: var(--fill-color);\n",
              "    animation:\n",
              "      spin 1s steps(1) infinite;\n",
              "  }\n",
              "\n",
              "  @keyframes spin {\n",
              "    0% {\n",
              "      border-color: transparent;\n",
              "      border-bottom-color: var(--fill-color);\n",
              "      border-left-color: var(--fill-color);\n",
              "    }\n",
              "    20% {\n",
              "      border-color: transparent;\n",
              "      border-left-color: var(--fill-color);\n",
              "      border-top-color: var(--fill-color);\n",
              "    }\n",
              "    30% {\n",
              "      border-color: transparent;\n",
              "      border-left-color: var(--fill-color);\n",
              "      border-top-color: var(--fill-color);\n",
              "      border-right-color: var(--fill-color);\n",
              "    }\n",
              "    40% {\n",
              "      border-color: transparent;\n",
              "      border-right-color: var(--fill-color);\n",
              "      border-top-color: var(--fill-color);\n",
              "    }\n",
              "    60% {\n",
              "      border-color: transparent;\n",
              "      border-right-color: var(--fill-color);\n",
              "    }\n",
              "    80% {\n",
              "      border-color: transparent;\n",
              "      border-right-color: var(--fill-color);\n",
              "      border-bottom-color: var(--fill-color);\n",
              "    }\n",
              "    90% {\n",
              "      border-color: transparent;\n",
              "      border-bottom-color: var(--fill-color);\n",
              "    }\n",
              "  }\n",
              "</style>\n",
              "\n",
              "  <script>\n",
              "    async function quickchart(key) {\n",
              "      const quickchartButtonEl =\n",
              "        document.querySelector('#' + key + ' button');\n",
              "      quickchartButtonEl.disabled = true;  // To prevent multiple clicks.\n",
              "      quickchartButtonEl.classList.add('colab-df-spinner');\n",
              "      try {\n",
              "        const charts = await google.colab.kernel.invokeFunction(\n",
              "            'suggestCharts', [key], {});\n",
              "      } catch (error) {\n",
              "        console.error('Error during call to suggestCharts:', error);\n",
              "      }\n",
              "      quickchartButtonEl.classList.remove('colab-df-spinner');\n",
              "      quickchartButtonEl.classList.add('colab-df-quickchart-complete');\n",
              "    }\n",
              "    (() => {\n",
              "      let quickchartButtonEl =\n",
              "        document.querySelector('#df-e5a48d32-7131-444e-8372-5bedfda55f04 button');\n",
              "      quickchartButtonEl.style.display =\n",
              "        google.colab.kernel.accessAllowed ? 'block' : 'none';\n",
              "    })();\n",
              "  </script>\n",
              "</div>\n",
              "\n",
              "    </div>\n",
              "  </div>\n"
            ],
            "text/plain": [
              "   speaker                                               text\n",
              "0  Guest-1             Als eerste het woord aan de heer Krul.\n",
              "1  Guest-1  Van de Fractie van het CDA die een klemmende v...\n",
              "2  Guest-1                             Aan minister Madlener.\n",
              "3  Guest-2  Die heeft nog eens maken het vragenuurtje in d...\n",
              "4  Guest-1                                     Te mogen open."
            ]
          },
          "execution_count": 4,
          "metadata": {},
          "output_type": "execute_result"
        }
      ],
      "source": [
        "df = pd.read_csv(\"https://raw.githubusercontent.com/kcambrek/masterclass/refs/heads/main/data/transcriptie.csv\", sep = \";\").fillna(\" \")\n",
        "df.head()\n"
      ]
    },
    {
      "cell_type": "code",
      "execution_count": 5,
      "metadata": {
        "colab": {
          "base_uri": "https://localhost:8080/",
          "height": 889
        },
        "id": "lWg9hd23HSQ-",
        "outputId": "bd546f33-134e-4d46-e1fe-331e8c7f9a49"
      },
      "outputs": [
        {
          "name": "stdout",
          "output_type": "stream",
          "text": [
            "Number of rows : 295\n",
            "speaker\n",
            "Guest-1     62\n",
            "Guest-3     45\n",
            "Guest-4     36\n",
            "Guest-7     35\n",
            "Guest-13    35\n",
            "Unknown     25\n",
            "Guest-5     14\n",
            "Guest-16    11\n",
            "Guest-14     7\n",
            "Guest-6      5\n",
            "Guest-8      5\n",
            "Guest-11     4\n",
            "Guest-12     4\n",
            "Guest-9      3\n",
            "Guest-2      2\n",
            "Guest-10     1\n",
            "Guest-15     1\n",
            "Name: count, dtype: int64\n"
          ]
        },
        {
          "data": {
            "text/html": [
              "<html>\n",
              "<head><meta charset=\"utf-8\" /></head>\n",
              "<body>\n",
              "    <div>            <script src=\"https://cdnjs.cloudflare.com/ajax/libs/mathjax/2.7.5/MathJax.js?config=TeX-AMS-MML_SVG\"></script><script type=\"text/javascript\">if (window.MathJax && window.MathJax.Hub && window.MathJax.Hub.Config) {window.MathJax.Hub.Config({SVG: {font: \"STIX-Web\"}});}</script>                <script type=\"text/javascript\">window.PlotlyConfig = {MathJaxConfig: 'local'};</script>\n",
              "        <script charset=\"utf-8\" src=\"https://cdn.plot.ly/plotly-2.35.2.min.js\"></script>                <div id=\"7747f796-7f84-44ee-a4ac-9cc2737e0dd3\" class=\"plotly-graph-div\" style=\"height:525px; width:100%;\"></div>            <script type=\"text/javascript\">                                    window.PLOTLYENV=window.PLOTLYENV || {};                                    if (document.getElementById(\"7747f796-7f84-44ee-a4ac-9cc2737e0dd3\")) {                    Plotly.newPlot(                        \"7747f796-7f84-44ee-a4ac-9cc2737e0dd3\",                        [{\"alignmentgroup\":\"True\",\"bingroup\":\"x\",\"hovertemplate\":\"word_count=%{x}\\u003cbr\\u003ecount=%{y}\\u003cextra\\u003e\\u003c\\u002fextra\\u003e\",\"legendgroup\":\"\",\"marker\":{\"color\":\"#636efa\",\"pattern\":{\"shape\":\"\"}},\"name\":\"\",\"nbinsx\":50,\"offsetgroup\":\"\",\"orientation\":\"v\",\"showlegend\":false,\"x\":[8,11,3,10,3,7,32,3,76,62,42,15,10,10,25,43,36,41,10,2,27,37,18,15,7,53,102,76,107,33,5,111,111,95,122,120,38,94,63,110,106,13,7,98,109,98,92,47,97,35,80,4,80,109,62,12,104,88,120,107,12,7,87,54,101,72,75,93,19,5,98,103,114,92,4,71,67,107,115,11,5,117,110,18,97,98,55,5,87,12,92,118,23,8,83,39,113,9,6,118,12,117,9,4,132,41,97,111,25,39,82,58,5,23,28,6,11,75,31,109,50,20,33,2,21,10,6,15,15,3,13,3,4,49,2,23,8,27,73,43,55,45,53,33,96,11,42,28,4,6,3,7,5,14,11,9,7,1,20,3,12,2,8,75,20,32,106,48,36,11,27,85,1,18,53,4,6,72,105,62,8,21,79,67,91,46,5,45,1,86,94,75,59,31,48,87,44,3,101,9,51,85,98,1,52,114,52,26,15,3,5,3,28,17,3,28,41,95,46,104,34,25,5,74,24,96,133,115,1,110,100,96,50,110,121,12,5,40,4,99,57,105,115,75,5,48,6,8,21,6,107,7,134,69,18,22,19,56,32,137,123,82,7,97,20,94,116,72,31,0,0,0,0,0,0,0,0,0,0,0,0,0,0,0,0,0,0,0,0,0,0,0,0,0,63],\"xaxis\":\"x\",\"yaxis\":\"y\",\"type\":\"histogram\"}],                        {\"template\":{\"data\":{\"histogram2dcontour\":[{\"type\":\"histogram2dcontour\",\"colorbar\":{\"outlinewidth\":0,\"ticks\":\"\"},\"colorscale\":[[0.0,\"#0d0887\"],[0.1111111111111111,\"#46039f\"],[0.2222222222222222,\"#7201a8\"],[0.3333333333333333,\"#9c179e\"],[0.4444444444444444,\"#bd3786\"],[0.5555555555555556,\"#d8576b\"],[0.6666666666666666,\"#ed7953\"],[0.7777777777777778,\"#fb9f3a\"],[0.8888888888888888,\"#fdca26\"],[1.0,\"#f0f921\"]]}],\"choropleth\":[{\"type\":\"choropleth\",\"colorbar\":{\"outlinewidth\":0,\"ticks\":\"\"}}],\"histogram2d\":[{\"type\":\"histogram2d\",\"colorbar\":{\"outlinewidth\":0,\"ticks\":\"\"},\"colorscale\":[[0.0,\"#0d0887\"],[0.1111111111111111,\"#46039f\"],[0.2222222222222222,\"#7201a8\"],[0.3333333333333333,\"#9c179e\"],[0.4444444444444444,\"#bd3786\"],[0.5555555555555556,\"#d8576b\"],[0.6666666666666666,\"#ed7953\"],[0.7777777777777778,\"#fb9f3a\"],[0.8888888888888888,\"#fdca26\"],[1.0,\"#f0f921\"]]}],\"heatmap\":[{\"type\":\"heatmap\",\"colorbar\":{\"outlinewidth\":0,\"ticks\":\"\"},\"colorscale\":[[0.0,\"#0d0887\"],[0.1111111111111111,\"#46039f\"],[0.2222222222222222,\"#7201a8\"],[0.3333333333333333,\"#9c179e\"],[0.4444444444444444,\"#bd3786\"],[0.5555555555555556,\"#d8576b\"],[0.6666666666666666,\"#ed7953\"],[0.7777777777777778,\"#fb9f3a\"],[0.8888888888888888,\"#fdca26\"],[1.0,\"#f0f921\"]]}],\"heatmapgl\":[{\"type\":\"heatmapgl\",\"colorbar\":{\"outlinewidth\":0,\"ticks\":\"\"},\"colorscale\":[[0.0,\"#0d0887\"],[0.1111111111111111,\"#46039f\"],[0.2222222222222222,\"#7201a8\"],[0.3333333333333333,\"#9c179e\"],[0.4444444444444444,\"#bd3786\"],[0.5555555555555556,\"#d8576b\"],[0.6666666666666666,\"#ed7953\"],[0.7777777777777778,\"#fb9f3a\"],[0.8888888888888888,\"#fdca26\"],[1.0,\"#f0f921\"]]}],\"contourcarpet\":[{\"type\":\"contourcarpet\",\"colorbar\":{\"outlinewidth\":0,\"ticks\":\"\"}}],\"contour\":[{\"type\":\"contour\",\"colorbar\":{\"outlinewidth\":0,\"ticks\":\"\"},\"colorscale\":[[0.0,\"#0d0887\"],[0.1111111111111111,\"#46039f\"],[0.2222222222222222,\"#7201a8\"],[0.3333333333333333,\"#9c179e\"],[0.4444444444444444,\"#bd3786\"],[0.5555555555555556,\"#d8576b\"],[0.6666666666666666,\"#ed7953\"],[0.7777777777777778,\"#fb9f3a\"],[0.8888888888888888,\"#fdca26\"],[1.0,\"#f0f921\"]]}],\"surface\":[{\"type\":\"surface\",\"colorbar\":{\"outlinewidth\":0,\"ticks\":\"\"},\"colorscale\":[[0.0,\"#0d0887\"],[0.1111111111111111,\"#46039f\"],[0.2222222222222222,\"#7201a8\"],[0.3333333333333333,\"#9c179e\"],[0.4444444444444444,\"#bd3786\"],[0.5555555555555556,\"#d8576b\"],[0.6666666666666666,\"#ed7953\"],[0.7777777777777778,\"#fb9f3a\"],[0.8888888888888888,\"#fdca26\"],[1.0,\"#f0f921\"]]}],\"mesh3d\":[{\"type\":\"mesh3d\",\"colorbar\":{\"outlinewidth\":0,\"ticks\":\"\"}}],\"scatter\":[{\"fillpattern\":{\"fillmode\":\"overlay\",\"size\":10,\"solidity\":0.2},\"type\":\"scatter\"}],\"parcoords\":[{\"type\":\"parcoords\",\"line\":{\"colorbar\":{\"outlinewidth\":0,\"ticks\":\"\"}}}],\"scatterpolargl\":[{\"type\":\"scatterpolargl\",\"marker\":{\"colorbar\":{\"outlinewidth\":0,\"ticks\":\"\"}}}],\"bar\":[{\"error_x\":{\"color\":\"#2a3f5f\"},\"error_y\":{\"color\":\"#2a3f5f\"},\"marker\":{\"line\":{\"color\":\"#E5ECF6\",\"width\":0.5},\"pattern\":{\"fillmode\":\"overlay\",\"size\":10,\"solidity\":0.2}},\"type\":\"bar\"}],\"scattergeo\":[{\"type\":\"scattergeo\",\"marker\":{\"colorbar\":{\"outlinewidth\":0,\"ticks\":\"\"}}}],\"scatterpolar\":[{\"type\":\"scatterpolar\",\"marker\":{\"colorbar\":{\"outlinewidth\":0,\"ticks\":\"\"}}}],\"histogram\":[{\"marker\":{\"pattern\":{\"fillmode\":\"overlay\",\"size\":10,\"solidity\":0.2}},\"type\":\"histogram\"}],\"scattergl\":[{\"type\":\"scattergl\",\"marker\":{\"colorbar\":{\"outlinewidth\":0,\"ticks\":\"\"}}}],\"scatter3d\":[{\"type\":\"scatter3d\",\"line\":{\"colorbar\":{\"outlinewidth\":0,\"ticks\":\"\"}},\"marker\":{\"colorbar\":{\"outlinewidth\":0,\"ticks\":\"\"}}}],\"scattermapbox\":[{\"type\":\"scattermapbox\",\"marker\":{\"colorbar\":{\"outlinewidth\":0,\"ticks\":\"\"}}}],\"scatterternary\":[{\"type\":\"scatterternary\",\"marker\":{\"colorbar\":{\"outlinewidth\":0,\"ticks\":\"\"}}}],\"scattercarpet\":[{\"type\":\"scattercarpet\",\"marker\":{\"colorbar\":{\"outlinewidth\":0,\"ticks\":\"\"}}}],\"carpet\":[{\"aaxis\":{\"endlinecolor\":\"#2a3f5f\",\"gridcolor\":\"white\",\"linecolor\":\"white\",\"minorgridcolor\":\"white\",\"startlinecolor\":\"#2a3f5f\"},\"baxis\":{\"endlinecolor\":\"#2a3f5f\",\"gridcolor\":\"white\",\"linecolor\":\"white\",\"minorgridcolor\":\"white\",\"startlinecolor\":\"#2a3f5f\"},\"type\":\"carpet\"}],\"table\":[{\"cells\":{\"fill\":{\"color\":\"#EBF0F8\"},\"line\":{\"color\":\"white\"}},\"header\":{\"fill\":{\"color\":\"#C8D4E3\"},\"line\":{\"color\":\"white\"}},\"type\":\"table\"}],\"barpolar\":[{\"marker\":{\"line\":{\"color\":\"#E5ECF6\",\"width\":0.5},\"pattern\":{\"fillmode\":\"overlay\",\"size\":10,\"solidity\":0.2}},\"type\":\"barpolar\"}],\"pie\":[{\"automargin\":true,\"type\":\"pie\"}]},\"layout\":{\"autotypenumbers\":\"strict\",\"colorway\":[\"#636efa\",\"#EF553B\",\"#00cc96\",\"#ab63fa\",\"#FFA15A\",\"#19d3f3\",\"#FF6692\",\"#B6E880\",\"#FF97FF\",\"#FECB52\"],\"font\":{\"color\":\"#2a3f5f\"},\"hovermode\":\"closest\",\"hoverlabel\":{\"align\":\"left\"},\"paper_bgcolor\":\"white\",\"plot_bgcolor\":\"#E5ECF6\",\"polar\":{\"bgcolor\":\"#E5ECF6\",\"angularaxis\":{\"gridcolor\":\"white\",\"linecolor\":\"white\",\"ticks\":\"\"},\"radialaxis\":{\"gridcolor\":\"white\",\"linecolor\":\"white\",\"ticks\":\"\"}},\"ternary\":{\"bgcolor\":\"#E5ECF6\",\"aaxis\":{\"gridcolor\":\"white\",\"linecolor\":\"white\",\"ticks\":\"\"},\"baxis\":{\"gridcolor\":\"white\",\"linecolor\":\"white\",\"ticks\":\"\"},\"caxis\":{\"gridcolor\":\"white\",\"linecolor\":\"white\",\"ticks\":\"\"}},\"coloraxis\":{\"colorbar\":{\"outlinewidth\":0,\"ticks\":\"\"}},\"colorscale\":{\"sequential\":[[0.0,\"#0d0887\"],[0.1111111111111111,\"#46039f\"],[0.2222222222222222,\"#7201a8\"],[0.3333333333333333,\"#9c179e\"],[0.4444444444444444,\"#bd3786\"],[0.5555555555555556,\"#d8576b\"],[0.6666666666666666,\"#ed7953\"],[0.7777777777777778,\"#fb9f3a\"],[0.8888888888888888,\"#fdca26\"],[1.0,\"#f0f921\"]],\"sequentialminus\":[[0.0,\"#0d0887\"],[0.1111111111111111,\"#46039f\"],[0.2222222222222222,\"#7201a8\"],[0.3333333333333333,\"#9c179e\"],[0.4444444444444444,\"#bd3786\"],[0.5555555555555556,\"#d8576b\"],[0.6666666666666666,\"#ed7953\"],[0.7777777777777778,\"#fb9f3a\"],[0.8888888888888888,\"#fdca26\"],[1.0,\"#f0f921\"]],\"diverging\":[[0,\"#8e0152\"],[0.1,\"#c51b7d\"],[0.2,\"#de77ae\"],[0.3,\"#f1b6da\"],[0.4,\"#fde0ef\"],[0.5,\"#f7f7f7\"],[0.6,\"#e6f5d0\"],[0.7,\"#b8e186\"],[0.8,\"#7fbc41\"],[0.9,\"#4d9221\"],[1,\"#276419\"]]},\"xaxis\":{\"gridcolor\":\"white\",\"linecolor\":\"white\",\"ticks\":\"\",\"title\":{\"standoff\":15},\"zerolinecolor\":\"white\",\"automargin\":true,\"zerolinewidth\":2},\"yaxis\":{\"gridcolor\":\"white\",\"linecolor\":\"white\",\"ticks\":\"\",\"title\":{\"standoff\":15},\"zerolinecolor\":\"white\",\"automargin\":true,\"zerolinewidth\":2},\"scene\":{\"xaxis\":{\"backgroundcolor\":\"#E5ECF6\",\"gridcolor\":\"white\",\"linecolor\":\"white\",\"showbackground\":true,\"ticks\":\"\",\"zerolinecolor\":\"white\",\"gridwidth\":2},\"yaxis\":{\"backgroundcolor\":\"#E5ECF6\",\"gridcolor\":\"white\",\"linecolor\":\"white\",\"showbackground\":true,\"ticks\":\"\",\"zerolinecolor\":\"white\",\"gridwidth\":2},\"zaxis\":{\"backgroundcolor\":\"#E5ECF6\",\"gridcolor\":\"white\",\"linecolor\":\"white\",\"showbackground\":true,\"ticks\":\"\",\"zerolinecolor\":\"white\",\"gridwidth\":2}},\"shapedefaults\":{\"line\":{\"color\":\"#2a3f5f\"}},\"annotationdefaults\":{\"arrowcolor\":\"#2a3f5f\",\"arrowhead\":0,\"arrowwidth\":1},\"geo\":{\"bgcolor\":\"white\",\"landcolor\":\"#E5ECF6\",\"subunitcolor\":\"white\",\"showland\":true,\"showlakes\":true,\"lakecolor\":\"white\"},\"title\":{\"x\":0.05},\"mapbox\":{\"style\":\"light\"}}},\"xaxis\":{\"anchor\":\"y\",\"domain\":[0.0,1.0],\"title\":{\"text\":\"word_count\"}},\"yaxis\":{\"anchor\":\"x\",\"domain\":[0.0,1.0],\"title\":{\"text\":\"count\"}},\"legend\":{\"tracegroupgap\":0},\"title\":{\"text\":\"Distribution of Number of Words\"},\"barmode\":\"relative\"},                        {\"responsive\": true}                    ).then(function(){\n",
              "                            \n",
              "var gd = document.getElementById('7747f796-7f84-44ee-a4ac-9cc2737e0dd3');\n",
              "var x = new MutationObserver(function (mutations, observer) {{\n",
              "        var display = window.getComputedStyle(gd).display;\n",
              "        if (!display || display === 'none') {{\n",
              "            console.log([gd, 'removed!']);\n",
              "            Plotly.purge(gd);\n",
              "            observer.disconnect();\n",
              "        }}\n",
              "}});\n",
              "\n",
              "// Listen for the removal of the full notebook cells\n",
              "var notebookContainer = gd.closest('#notebook-container');\n",
              "if (notebookContainer) {{\n",
              "    x.observe(notebookContainer, {childList: true});\n",
              "}}\n",
              "\n",
              "// Listen for the clearing of the current output cell\n",
              "var outputEl = gd.closest('.output');\n",
              "if (outputEl) {{\n",
              "    x.observe(outputEl, {childList: true});\n",
              "}}\n",
              "\n",
              "                        })                };                            </script>        </div>\n",
              "</body>\n",
              "</html>"
            ]
          },
          "metadata": {},
          "output_type": "display_data"
        }
      ],
      "source": [
        "# How many rows do we have?\n",
        "print(f\"Number of rows : {len(df)}\")\n",
        "\n",
        "# How many speakers do we have?\n",
        "print(df[\"speaker\"].value_counts())\n",
        "\n",
        "# Calculate the number of words in each row of the specified column\n",
        "df['word_count'] = df['text'].apply(lambda x: len(x.split()))\n",
        "\n",
        "# Create a histogram using Plotly Express\n",
        "fig = px.histogram(df, x=\"word_count\", nbins=50, title=\"Distribution of Number of Words\")\n",
        "fig.show()"
      ]
    },
    {
      "cell_type": "markdown",
      "metadata": {
        "id": "JyXFy7C9-Kbv"
      },
      "source": [
        "## Create embedding\n",
        "\n",
        "We are using a transformer model to generate embeddings of our texts.\n",
        "It allows us to map texts to high dimensional vectors. These vectors should reflect the semantics of the input text. Similar texts should be embedded close to eachother.  ![image2.png](https://www.wavelabs.ai/wp-content/uploads/2021/03/Word-Embeddings-Image-2-1024x358.png)"
      ]
    },
    {
      "cell_type": "code",
      "execution_count": null,
      "metadata": {
        "id": "7HqSwB00-Kbw"
      },
      "outputs": [],
      "source": [
        "# Choose embedding model. Check out https://huggingface.co/sentence-transformers for more models\n",
        "model = SentenceTransformer(\"sentence-transformers/paraphrase-multilingual-MiniLM-L12-v2\")\n",
        "# Generate embeddings\n",
        "embeddings = model.encode(df[\"text\"], show_progress_bar= True)"
      ]
    },
    {
      "cell_type": "markdown",
      "metadata": {
        "id": "b80M34fm-Kbx"
      },
      "source": [
        "## Reduce and plot embeddings\n",
        "\n",
        "The embeddings have a high dimension, 384 to be exact. We cannot visualize such an embedding space. Subsequently, clustering techniques can have difficulties with clustering high dimensional vectors. Dimensionality reduction can help in this regard by removing noise and combat the curse of dimensionality. However, reducing dimensions can also result in information loss."
      ]
    },
    {
      "cell_type": "code",
      "execution_count": null,
      "metadata": {
        "id": "pB-RU5Sl-Kbx"
      },
      "outputs": [],
      "source": [
        "# Applying t-sne to reduce dimensionality to 2. https://scikit-learn.org/dev/modules/generated/sklearn.manifold.TSNE.html\n",
        "tsne = TSNE(n_components=2, random_state=42)\n",
        "reduced_embeddings = tsne.fit_transform(embeddings)\n",
        "\n",
        "print(f\"Shape of embeddings : {embeddings.shape}\")\n",
        "print(f\"Shape of reduced embeddings : {reduced_embeddings.shape}\")"
      ]
    },
    {
      "cell_type": "code",
      "execution_count": null,
      "metadata": {
        "id": "YIcdRk1L-Kbx"
      },
      "outputs": [],
      "source": [
        "def plot_reduced_embeddings(reduced_embeddings: np.ndarray, labels : Optional[list] = None) -> None:\n",
        "  '''Creates plotly scatter plot of 2-dimensional embeddings.'''\n",
        "  temp_df = pd.DataFrame(reduced_embeddings, columns=['x', 'y'])\n",
        "  if labels:\n",
        "      temp_df[\"label\"] = labels\n",
        "      fig = px.scatter(temp_df, x='x', y='y', color=temp_df['label'],\n",
        "                title=\"Reduced Embeddings\", labels={'color': 'label'})\n",
        "  else:\n",
        "      fig = px.scatter(temp_df, x = \"x\", y='y', title=\"Reduced Embeddings\")\n",
        "\n",
        "  fig.show()\n"
      ]
    },
    {
      "cell_type": "code",
      "execution_count": null,
      "metadata": {
        "id": "dzCMDj32InbU"
      },
      "outputs": [],
      "source": [
        "# Plot reduced embeddings\n",
        "plot_reduced_embeddings(reduced_embeddings)"
      ]
    },
    {
      "cell_type": "code",
      "execution_count": null,
      "metadata": {
        "id": "XXxfxrZGIy71"
      },
      "outputs": [],
      "source": [
        "# Be carefull with t-sne! Results are not deterministic\n",
        "tsne_1 = TSNE(n_components=2, random_state=43)\n",
        "reduced_embeddings_1 = tsne_1.fit_transform(embeddings)\n",
        "\n",
        "plot_reduced_embeddings(reduced_embeddings_1)"
      ]
    },
    {
      "cell_type": "code",
      "execution_count": null,
      "metadata": {
        "id": "vmRROnvc-Kbx"
      },
      "outputs": [],
      "source": [
        "# We do have extra information on the speakers. Are the texts from the same speaker clustered close together? / Do they speak about more topics?\n",
        "plot_reduced_embeddings(reduced_embeddings, labels=list(df[\"speaker\"]))"
      ]
    },
    {
      "cell_type": "markdown",
      "metadata": {
        "id": "YUpyXopW-Kby"
      },
      "source": [
        "## Splitting texts\n",
        "\n",
        "The dataset is messy. The texts outputted by Azure Speech to Text are in big chunks of one or more sentences. Embedding models are trained to generate an embedding for individual tokens, thus generating multiple embeddings per sentence or paragraph. To get one embedding for an arbitrary long piece of text, we pool the individual tokens. Often we just take the mean of all the embeddings.\n",
        "\n",
        "![image.png](https://huggingface.co/blog/assets/32_1b_sentence_embeddings/model.png)\n",
        "\n",
        "Since every token has its own embedding reflecting its semantics, we water down the semantics by pooling.\n",
        "\n",
        "Splitting the big chunks in smaller bits will allow for more embeddings that should capture the semantics of the text better."
      ]
    },
    {
      "cell_type": "code",
      "execution_count": 8,
      "metadata": {
        "colab": {
          "base_uri": "https://localhost:8080/",
          "height": 70
        },
        "id": "Mz4Vo5Wltpgn",
        "outputId": "74b4feed-e0d0-4b8e-a06a-ad7e60d4a70a"
      },
      "outputs": [
        {
          "data": {
            "application/vnd.google.colaboratory.intrinsic+json": {
              "type": "string"
            },
            "text/plain": [
              "'Ja voorzitter dank en Ik ben blij komend uit een waterrijke provincie dat de staatssecretaris hard achteraan gaat. Maar Er zijn Natuurlijk al dingen die nu wel al bekend zijn. Daar hoef je geen analyse op los te Laten. Daar is een jeugdsportfonds. Er zijn gewoon andere regelingen. En ja, ik vraag me af, kan daar dan nog niet begonnen worden met te kijken van om die weer een beetje in het voetlicht te brengen, zodat je daar al vooruitloopt? Op een analyse van dingen die er al zijn? Ik denk altijd laaghangend fruit, pak dat eerst.'"
            ]
          },
          "execution_count": 8,
          "metadata": {},
          "output_type": "execute_result"
        }
      ],
      "source": [
        "#Example of a multi-sentence chunk of text\n",
        "df.loc[263][\"text\"]"
      ]
    },
    {
      "cell_type": "code",
      "execution_count": null,
      "metadata": {
        "id": "bc2kwdJd-Kby"
      },
      "outputs": [],
      "source": [
        "def split_df(df: pd.DataFrame, splitter: Callable):\n",
        "  \"\"\"Splits the text column of a DataFrame into smaller chunks using a provided splitter function.\n",
        "\n",
        "  Args:\n",
        "      df (pd.DataFrame): The input DataFrame containing a 'text' column to be split.\n",
        "      splitter (Callable): A function that takes a string (text) as input and returns a list of strings (split text chunks).\n",
        "\n",
        "  Returns:\n",
        "      pd.DataFrame: A new DataFrame with the text column split into smaller chunks.\n",
        "                    The new DataFrame will have the same columns as the input DataFrame,\n",
        "                    but with potentially more rows due to the splitting of text.\n",
        "                    The 'text' column in the new DataFrame will contain the individual text chunks.\n",
        "  \"\"\"\n",
        "  data = []\n",
        "  print(f\"Length of old data : {len(df)}\")\n",
        "  for _, row in df.iterrows():\n",
        "      splitted_text = splitter(row[\"text\"])\n",
        "\n",
        "      for text in splitted_text:\n",
        "          data.append({\"speaker\" : row[\"speaker\"], \"text\" : text})\n",
        "  print(f\"Length of new data : {len(data)}\")\n",
        "  return pd.DataFrame(data)\n",
        "\n",
        "def simple_splitter(text: str) -> list[str]:\n",
        "  \"\"\"Splits text in chunks of max 20 words\"\"\"\n",
        "  text_splitted = text.split()\n",
        "\n",
        "  return [\" \".join(text_splitted[i:i+20]) for i in range(0, len(text_splitted), 20)]\n",
        "\n",
        "\n",
        "df_splitted = split_df(df, simple_splitter)\n",
        "df_splitted.head()\n"
      ]
    },
    {
      "cell_type": "markdown",
      "metadata": {
        "id": "6FSccV-i-Kby"
      },
      "source": [
        "### Plotting texts again"
      ]
    },
    {
      "cell_type": "code",
      "execution_count": null,
      "metadata": {
        "id": "d2qKQOva-Kby"
      },
      "outputs": [],
      "source": [
        "# With more refined texts we might get better results.\n",
        "embeddings_splitted = model.encode(df_splitted[\"text\"], show_progress_bar= True)\n",
        "\n",
        "tsne_splitted = TSNE(n_components=2, random_state=42)\n",
        "reduced_embeddings_splitted = tsne.fit_transform(embeddings_splitted)\n",
        "\n",
        "plot_reduced_embeddings(reduced_embeddings_splitted, labels=list(df_splitted[\"speaker\"]))"
      ]
    },
    {
      "cell_type": "markdown",
      "metadata": {
        "id": "YL8F8EnI-Kbz"
      },
      "source": [
        "# Challenge\n",
        "\n",
        "In this part you are going to get your hands dirty! A this point we know not much about the content of the text we analysed. How can you use methods such as embedding, dimensionality reduction and clustering to make sense of large quantities of messy texts?\n",
        "\n",
        "Below are some problems/open questions to work on:\n",
        "\n",
        "- The simple_splitter does not pay attention to the beginning and end of sentences. Would a more sentence aware splitter give better results? Take a look at [NLTK sentence tokenizer](https://www.nltk.org/api/nltk.tokenize.sent_tokenize.html)\n",
        "- Can we use the (reduced) embeddings to create clusters?\n",
        "  - About what topics is the text? The first person who identifies the three \"kamervragen\" and shows this through clustering wins something...\n",
        "  - Explore different clustering methods (such as PCA and uMAP)\n",
        "  . A good start is [Scikit Learn Clustering](https://scikit-learn.org/stable/modules/clustering.html)\n",
        "  - Explore different dimensionality reduction methods and settings.\n",
        "  - How do we get a feel about the semantics of a cluster? Can we get a set of words per cluster that reflect the semantics? Take a look at [Scikit Learn Feature Extraction from Text](https://scikit-learn.org/1.5/api/sklearn.feature_extraction.html#module-sklearn.feature_extraction.text)\n",
        "  - What happens if you use the speakers as clusters?\n",
        "\n",
        "- How to score cluster results?\n",
        "  - Qualitative vs quantative?\n",
        "  - Take a look at different metrics at [Sklearn clustering metrics](https://scikit-learn.org/1.5/api/sklearn.metrics.html#module-sklearn.metrics.cluster).\n",
        "  \n",
        "- How do different embedding models influence results?\n",
        "  - How do you even choose an embedding model? Popularity vs generic benchmarks vs domain specific benchmarks? For available models that work with Sentence Transformers [Huggingface Dutch Sentence similarity models](https://huggingface.co/models?pipeline_tag=sentence-similarity&language=nl&sort=trending)\n",
        "  - Can we train our own embedding model from scratch? Yes we can! This can sometimes lead to better results on very domain specific texts, even with very simple models. A great starting place is [Gensim doc2vec](https://radimrehurek.com/gensim/auto_examples/tutorials/run_doc2vec_lee.html#sphx-glr-auto-examples-tutorials-run-doc2vec-lee-py)\n"
      ]
    }
  ],
  "metadata": {
    "colab": {
      "provenance": []
    },
    "kernelspec": {
      "display_name": "llm_evaluation",
      "language": "python",
      "name": "python3"
    },
    "language_info": {
      "codemirror_mode": {
        "name": "ipython",
        "version": 3
      },
      "file_extension": ".py",
      "mimetype": "text/x-python",
      "name": "python",
      "nbconvert_exporter": "python",
      "pygments_lexer": "ipython3",
      "version": "3.10.14"
    }
  },
  "nbformat": 4,
  "nbformat_minor": 0
}
