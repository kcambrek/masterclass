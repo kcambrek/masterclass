{
 "cells": [
  {
   "cell_type": "markdown",
   "metadata": {},
   "source": [
    "# Masterclass Unsupervised analysis \n",
    "## Hands on session 1 - Metrics and linkages\n",
    "#### Rijkswaterstaat | Datalab | E. Taskesen | Oct 2019"
   ]
  },
  {
   "cell_type": "markdown",
   "metadata": {},
   "source": [
    "Clustering is the process of grouping samples which is then used to determine the \"natural\" or \"data driven\" groupings in the data set. If clusters emerge, their properties can be summarized. Although various clustering methods can produce a partitioning of the samples in the data set, different methods yields in different groupings since each implicitly imposes a structure on the data.\n",
    "#### In this notebook we will focus on distance metrics and linkage types.\n"
   ]
  },
  {
   "cell_type": "markdown",
   "metadata": {},
   "source": [
    "<h4>Distance metrics and linkage types</h4>\n",
    "The outcome in unsupervised analysis is determined by the the combination of \"distance metric\" and \"linkage type\". To define \"when\" or \"how\" two samples are similar, we need to define their intrinsic relationship; A (dis)similarity measure.\n",
    "\n",
    "<br> A <b>similarity measure</b> for two objects, i, and j will be large when the objects are very similar. On the other hand, a <b>dissimilarity measure</b> will be large when the two objects are very dissimilar and small when they are similar, just like a distance measure between objects. Several distance measures are commonly used for computing the dissimilarity of objects described by numeric attributes. The measure that <b>your</b> use-case needs, depends on what you/domain experts defines \"similar\". Below are described five measures that form the basis of most other measures that are available.\n",
    "\n",
    "<h4>The Euclidean distance between the two objects is defined as:</h4>\n",
    "<img src=\"./img/eucl_eq.png\",width=400,height=400>\n",
    "<br>Let <b><i>i=(x_i1,x_i2,…,x_in,)</i></b> and <i><b>j=(x_j1,x_j2,…,x_jn,)</i></b> be two objects described by n numeric attributes."
   ]
  },
  {
   "cell_type": "code",
   "execution_count": null,
   "metadata": {},
   "outputs": [],
   "source": [
    "# Load libraries\n",
    "import sys, os\n",
    "sys.path.append(os.path.join(os.getcwd(), \"../src/\"))\n",
    "import matplotlib.pyplot as plt\n",
    "import numpy as np\n",
    "from scatter import scatter"
   ]
  },
  {
   "cell_type": "code",
   "execution_count": null,
   "metadata": {},
   "outputs": [],
   "source": [
    "# Excercise 1:\n",
    "# Given x1 and x2 in the figure below, what is the Euclidean Distance between x1 and x2?\n",
    "out=scatter([1,2],[3,5], size=200, width=5, height=5, title='Excersice 1', colors='b', labx=['x1 (1,3)','x2 (2,5)'],xlim=[0,6], ylim=[0,6])"
   ]
  },
  {
   "cell_type": "markdown",
   "metadata": {},
   "source": [
    "### Answer:\n",
    "<br>\n",
    "a) 3.61\n",
    "<br>\n",
    "b) 25\n",
    "<br>\n",
    "c) 5\n",
    "</b>\n"
   ]
  },
  {
   "cell_type": "code",
   "execution_count": null,
   "metadata": {},
   "outputs": [],
   "source": [
    "# Excercise 1: ANSWER:\n",
    "# Create simple function to compute eucledian distance\n",
    "from math import sqrt\n",
    "def eucl_distance(x,y):\n",
    "    eucdist=sqrt(sum(pow(a-b,2) for a, b in zip(x, y)))\n",
    "    return(eucdist)\n",
    "\n",
    "print(\"Answer is: %f\" %eucl_distance([1,2],[3,5]))"
   ]
  },
  {
   "cell_type": "markdown",
   "metadata": {},
   "source": [
    "<hr>\n",
    "<center><h4>The Manhattan distance is defined as:</h4>\n",
    "<br>The distance between the two strings of equal length is the number of positions at which the corresponding symbols are different.</center>\n",
    "<img src=\"./img/Manhattan_eq.png\",width=350,height=350>\n",
    "<img src=\"./img/Manhattan_distance.png\",width=150,height=150>\n",
    "\n",
    "<i>The Manhattan distance metric is also known as:\n",
    "<br> - Manhattan length\n",
    "<br> - rectilinear distance\n",
    "<br> - L1 distance or L1 norm\n",
    "<br> - city block distance\n",
    "<br> - Minkowski’s L1 distance\n",
    "<br> - taxi-cab metric\n",
    "</i>\n",
    "\n"
   ]
  },
  {
   "cell_type": "markdown",
   "metadata": {},
   "source": [
    "### Excercise 2:\n",
    "#### Given x1 and x2 in the figure below, what is the Manhattan Distance between coordinates x1 and x2?\n",
    "x1 = [1,2]\n",
    "<br>\n",
    "x2 = [3,5]\n",
    "\n",
    "<i>Remember: Manhattan distance = |x1 – x2| + |y1 – y2|</i>\n",
    "\n",
    "### Answer:\n",
    "<b>\n",
    "a) 3\n",
    "<br>\n",
    "b) 6\n",
    "<br>\n",
    "c) 5\n",
    "</b>"
   ]
  },
  {
   "cell_type": "code",
   "execution_count": null,
   "metadata": {},
   "outputs": [],
   "source": [
    "# Excercise 2: ANSWER:\n",
    "# Create simple function to compute manhattan distance\n",
    "def manhattan_distance(x,y):\n",
    "     return sum(abs(a-b) for a,b in zip(x,y))\n",
    "\n",
    "print(\"Answer is: %d\" %manhattan_distance([1,2],[3,5]))"
   ]
  },
  {
   "cell_type": "markdown",
   "metadata": {},
   "source": [
    "<hr>\n",
    "<center><h3>Note that The <u>Minkowski distance</u> is a generalized metric form of Euclidean distance and Manhattan distance</h3></center>\n",
    "\n",
    "<i>Different names for the Minkowski distance or Minkowski metric arise from the order</i>\n",
    "\n",
    "λ = 1 is the Manhattan distance. \n",
    "<br><i>Synonyms are L1-Norm, Taxicab or City-Block distance. For two vectors of ranked ordinal variables, the Manhattan distance is sometimes called Foot-ruler distance.</i>\n",
    "<br><br>\n",
    "λ = 2 is the Euclidean distance. \n",
    "<br><i>Synonyms are L2-Norm or Ruler distance. For two vectors of ranked ordinal variables, the Euclidean distance is sometimes called Spear-man distance.</i>\n",
    "<br><br>\n",
    "λ = ∞ is the Chebyshev distance. \n",
    "<br><i>Synonyms are Lmax-Norm or Chessboard distance.</i>\n",
    "<br><br>\n",
    "<b>Although it is defined for any λ > 0, it is rarely used for values other than 1, 2 and ∞.</b>\n"
   ]
  },
  {
   "cell_type": "code",
   "execution_count": null,
   "metadata": {},
   "outputs": [],
   "source": [
    "# Excercise 2: ANSWER:\n",
    "# Create simple function to compute minkowski distance\n",
    "\n",
    "from decimal import Decimal\n",
    "\n",
    "def nth_root(value, n_root):\n",
    "    root_value = 1/float(n_root)\n",
    "    return round (Decimal(value) ** Decimal(root_value),3)\n",
    "\n",
    "def minkowski_distance(x,y,p_value):\n",
    "    return nth_root(sum(pow(abs(a-b),p_value) for a,b in zip(x, y)),p_value)\n",
    "\n",
    "# Examples with different lambda\n",
    "print(\"Minkowski with lambda=1: %d\" %minkowski_distance([1,2],[3,5],1))\n",
    "print(\"Minkowski with lambda=2: %f\" %minkowski_distance([1,2],[3,5],2))\n",
    "print(\"Minkowski with lambda=3 is: %f\" %minkowski_distance([1,2],[3,5],3))\n",
    "print(\"Minkowski with lambda=100 is: %f\" %minkowski_distance([1,2],[3,5],100))"
   ]
  },
  {
   "cell_type": "markdown",
   "metadata": {},
   "source": [
    "<hr>\n",
    "<center><h3>Hamming distance</h3></center>\n",
    "<center><br><b>The Hamming distance between the two objects is defined as:</b></center>\n",
    "<img src=\"./img/Hamming.png\",width=250,height=250>\n",
    "\n",
    "<center>\n",
    "<br>\n",
    "<br>\"Rijkswaterstaat\" and \"R<b>ei</b>kswaterstaat\" is 2.\n",
    "<br>1011101 and 10<b>0</b>1<b>0</b>01 is 2.\n",
    "<br>2173896 and 2<b>23</b>3<b>7</b>96 is 3.\n",
    "</center>\n"
   ]
  },
  {
   "cell_type": "code",
   "execution_count": null,
   "metadata": {},
   "outputs": [],
   "source": [
    "# Calculate the Hamming distance between two strings\n",
    "def hamming_distance(s1, s2):\n",
    "    assert len(s1) == len(s2)\n",
    "    return sum(c1 != c2 for c1, c2 in zip(s1, s2))\n",
    "\n",
    "a = 'Rijkswaterstaat'\n",
    "b = 'Reikswaterstaat'\n",
    "print(\"Hamming distance: %d\" %hamming_distance(a,b))"
   ]
  },
  {
   "cell_type": "markdown",
   "metadata": {},
   "source": [
    "#### Many different distance measures are readily in the <u>SCIPY</u> package\n"
   ]
  },
  {
   "cell_type": "code",
   "execution_count": null,
   "metadata": {},
   "outputs": [],
   "source": [
    "# Load distances from SCIPy\n",
    "import scipy.spatial.distance as scdist\n",
    "\n",
    "print(\"Euclidean distance: %f\" %scdist.euclidean([1,2],[3,5]))\n",
    "print(\"Minkowski distance with lambda=2: %f\" %scdist.minkowski([1,2],[3,5],2))\n",
    "print(\"Manhattan distance: %d\" %scdist.cityblock([1,2],[3,5]))\n",
    "print(\"Minkowski distance with lambda=1: %d\" %scdist.minkowski([1,2],[3,5],1))\n",
    "print(\"Hamming distance: %d\" %scdist.hamming(a,b))"
   ]
  },
  {
   "cell_type": "code",
   "execution_count": null,
   "metadata": {},
   "outputs": [],
   "source": [
    "# Fin"
   ]
  }
 ],
 "metadata": {
  "kernelspec": {
   "display_name": "Python 3",
   "language": "python",
   "name": "python3"
  },
  "language_info": {
   "codemirror_mode": {
    "name": "ipython",
    "version": 3
   },
   "file_extension": ".py",
   "mimetype": "text/x-python",
   "name": "python",
   "nbconvert_exporter": "python",
   "pygments_lexer": "ipython3",
   "version": "3.7.5"
  }
 },
 "nbformat": 4,
 "nbformat_minor": 2
}
